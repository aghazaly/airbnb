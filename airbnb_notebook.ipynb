{
 "cells": [
  {
   "cell_type": "code",
   "execution_count": 1,
   "metadata": {},
   "outputs": [],
   "source": [
    "import pandas as pd\n",
    "import numpy as np\n",
    "import matplotlib.pyplot as plt\n",
    "\n",
    "from sklearn.linear_model import LinearRegression\n",
    "from sklearn.model_selection import train_test_split\n",
    "from sklearn.metrics import r2_score, mean_squared_error"
   ]
  },
  {
   "cell_type": "markdown",
   "metadata": {},
   "source": [
    "### Calendar"
   ]
  },
  {
   "cell_type": "code",
   "execution_count": 2,
   "metadata": {},
   "outputs": [],
   "source": [
    "seattle_calendar = pd.read_csv(\"seattle/calendar.csv\", parse_dates=['date'])\n",
    "seattle_calendar['price'] = seattle_calendar['price'].str.replace(',', '')\n",
    "seattle_calendar['price'] = seattle_calendar['price'].str.replace('$', '')\n",
    "seattle_calendar['price'] = seattle_calendar['price'].astype(float)\n",
    "seattle_calendar = seattle_calendar.set_index('date')\n",
    "\n",
    "boston_calendar = pd.read_csv(\"boston/calendar.csv\", parse_dates=['date'])\n",
    "boston_calendar['price'] = boston_calendar['price'].str.replace(',', '')\n",
    "boston_calendar['price'] = boston_calendar['price'].str.replace('$', '')\n",
    "boston_calendar['price'] = boston_calendar['price'].astype(float)\n",
    "boston_calendar = boston_calendar.set_index('date')"
   ]
  },
  {
   "cell_type": "code",
   "execution_count": 3,
   "metadata": {},
   "outputs": [
    {
     "data": {
      "text/plain": [
       "(3818, 3585)"
      ]
     },
     "execution_count": 3,
     "metadata": {},
     "output_type": "execute_result"
    }
   ],
   "source": [
    "seattle_calendar.listing_id.nunique(), boston_calendar.listing_id.nunique()"
   ]
  },
  {
   "cell_type": "markdown",
   "metadata": {},
   "source": [
    "### Listings"
   ]
  },
  {
   "cell_type": "code",
   "execution_count": 4,
   "metadata": {},
   "outputs": [],
   "source": [
    "seattle_listings = pd.read_csv(\"seattle/listings.csv\")\n",
    "seattle_listings['price'] = seattle_listings['price'].str.replace(',', '')\n",
    "seattle_listings['price'] = seattle_listings['price'].str.replace('$', '')\n",
    "seattle_listings['price'] = seattle_listings['price'].astype(float)\n",
    "\n",
    "boston_listings = pd.read_csv(\"boston/listings.csv\")\n",
    "boston_listings['price'] = boston_listings['price'].str.replace(',', '')\n",
    "boston_listings['price'] = boston_listings['price'].str.replace('$', '')\n",
    "boston_listings['price'] = boston_listings['price'].astype(float)"
   ]
  },
  {
   "cell_type": "markdown",
   "metadata": {},
   "source": [
    "### Reviews"
   ]
  },
  {
   "cell_type": "code",
   "execution_count": 5,
   "metadata": {},
   "outputs": [],
   "source": [
    "seattle_reviews = pd.read_csv(\"seattle/reviews.csv\")\n",
    "boston_reviews = pd.read_csv(\"boston/reviews.csv\")"
   ]
  },
  {
   "cell_type": "code",
   "execution_count": 6,
   "metadata": {},
   "outputs": [
    {
     "data": {
      "text/plain": [
       "\"The good:  Good location, comfortable space, comfortable bed, washer and dryer\\r\\nThe bad:  It smelled musty (it's an exposed basement), street noise is loud, there were many cobwebs, the only bar soap was soap used by previous tenants (I did bring our own just in case), very few towels, found bathroom floor mats in laundry room which seemed clean, found coffee maker in laundry room (after we bought one).\""
      ]
     },
     "execution_count": 6,
     "metadata": {},
     "output_type": "execute_result"
    }
   ],
   "source": [
    "seattle_reviews[(seattle_reviews.listing_id == 241032) & (seattle_reviews.comments.str.contains(\"bad\"))].comments.iloc[0]"
   ]
  },
  {
   "cell_type": "markdown",
   "metadata": {},
   "source": [
    "# Questions"
   ]
  },
  {
   "cell_type": "markdown",
   "metadata": {},
   "source": [
    "You can compare rates between the two cities, or try to understand if there is anything about the properties that helps you predict price. Can you find negative and positive reviews based on text? "
   ]
  },
  {
   "cell_type": "markdown",
   "metadata": {},
   "source": [
    "**Can we predict price? using location? reviews?<br>**\n",
    "**</br>Can we classify text?<br>**\n",
    "**How do these findings differ between boston and seattle</br>**"
   ]
  },
  {
   "cell_type": "code",
   "execution_count": 7,
   "metadata": {},
   "outputs": [
    {
     "data": {
      "text/plain": [
       "(0.32938998399793334, 0.5087157820748879)"
      ]
     },
     "execution_count": 7,
     "metadata": {},
     "output_type": "execute_result"
    }
   ],
   "source": [
    "seattle_calendar.price.isna().mean(), boston_calendar.price.isna().mean()"
   ]
  },
  {
   "cell_type": "code",
   "execution_count": 8,
   "metadata": {},
   "outputs": [
    {
     "data": {
      "text/plain": [
       "(0.00026191723415400735, 0.001571503404924044, 0.0, 0.0018334206390780514)"
      ]
     },
     "execution_count": 8,
     "metadata": {},
     "output_type": "execute_result"
    }
   ],
   "source": [
    "seattle_listings['beds'].isna().mean(), seattle_listings.bedrooms.isna().mean(), seattle_listings.price.isna().mean(),\\\n",
    "seattle_listings.zipcode.isna().mean()"
   ]
  },
  {
   "cell_type": "code",
   "execution_count": 9,
   "metadata": {},
   "outputs": [
    {
     "data": {
      "text/html": [
       "<div>\n",
       "<style scoped>\n",
       "    .dataframe tbody tr th:only-of-type {\n",
       "        vertical-align: middle;\n",
       "    }\n",
       "\n",
       "    .dataframe tbody tr th {\n",
       "        vertical-align: top;\n",
       "    }\n",
       "\n",
       "    .dataframe thead th {\n",
       "        text-align: right;\n",
       "    }\n",
       "</style>\n",
       "<table border=\"1\" class=\"dataframe\">\n",
       "  <thead>\n",
       "    <tr style=\"text-align: right;\">\n",
       "      <th></th>\n",
       "      <th>price</th>\n",
       "      <th>price</th>\n",
       "    </tr>\n",
       "    <tr>\n",
       "      <th>listing_id</th>\n",
       "      <th></th>\n",
       "      <th></th>\n",
       "    </tr>\n",
       "  </thead>\n",
       "  <tbody>\n",
       "    <tr>\n",
       "      <th>3335</th>\n",
       "      <td>120.0</td>\n",
       "      <td>120.0</td>\n",
       "    </tr>\n",
       "    <tr>\n",
       "      <th>4291</th>\n",
       "      <td>82.0</td>\n",
       "      <td>82.0</td>\n",
       "    </tr>\n",
       "    <tr>\n",
       "      <th>5682</th>\n",
       "      <td>42.0</td>\n",
       "      <td>60.0</td>\n",
       "    </tr>\n",
       "    <tr>\n",
       "      <th>6606</th>\n",
       "      <td>90.0</td>\n",
       "      <td>100.0</td>\n",
       "    </tr>\n",
       "    <tr>\n",
       "      <th>7369</th>\n",
       "      <td>85.0</td>\n",
       "      <td>85.0</td>\n",
       "    </tr>\n",
       "    <tr>\n",
       "      <th>...</th>\n",
       "      <td>...</td>\n",
       "      <td>...</td>\n",
       "    </tr>\n",
       "    <tr>\n",
       "      <th>10332096</th>\n",
       "      <td>40.0</td>\n",
       "      <td>40.0</td>\n",
       "    </tr>\n",
       "    <tr>\n",
       "      <th>10334184</th>\n",
       "      <td>120.0</td>\n",
       "      <td>120.0</td>\n",
       "    </tr>\n",
       "    <tr>\n",
       "      <th>10339144</th>\n",
       "      <td>NaN</td>\n",
       "      <td>NaN</td>\n",
       "    </tr>\n",
       "    <tr>\n",
       "      <th>10339145</th>\n",
       "      <td>219.0</td>\n",
       "      <td>299.0</td>\n",
       "    </tr>\n",
       "    <tr>\n",
       "      <th>10340165</th>\n",
       "      <td>43.0</td>\n",
       "      <td>43.0</td>\n",
       "    </tr>\n",
       "  </tbody>\n",
       "</table>\n",
       "<p>3818 rows × 2 columns</p>\n",
       "</div>"
      ],
      "text/plain": [
       "            price  price\n",
       "listing_id              \n",
       "3335        120.0  120.0\n",
       "4291         82.0   82.0\n",
       "5682         42.0   60.0\n",
       "6606         90.0  100.0\n",
       "7369         85.0   85.0\n",
       "...           ...    ...\n",
       "10332096     40.0   40.0\n",
       "10334184    120.0  120.0\n",
       "10339144      NaN    NaN\n",
       "10339145    219.0  299.0\n",
       "10340165     43.0   43.0\n",
       "\n",
       "[3818 rows x 2 columns]"
      ]
     },
     "execution_count": 9,
     "metadata": {},
     "output_type": "execute_result"
    }
   ],
   "source": [
    "pd.concat([seattle_calendar.groupby('listing_id').price.min(),\n",
    "           seattle_calendar.groupby('listing_id').price.max()],axis=1)"
   ]
  },
  {
   "cell_type": "markdown",
   "metadata": {},
   "source": [
    "1) date\n",
    "2) number of beds or bedrooms\n",
    "3) property type\n",
    "4) zipcode"
   ]
  },
  {
   "cell_type": "markdown",
   "metadata": {},
   "source": [
    "# Graphing factors"
   ]
  },
  {
   "cell_type": "code",
   "execution_count": 10,
   "metadata": {},
   "outputs": [],
   "source": [
    "seattle_listings.zipcode = seattle_listings.zipcode.replace(\"99\\n98122\", \"98122\")\n",
    "\n",
    "seattle_listings = seattle_listings.dropna(subset=['zipcode']).astype({'zipcode': 'int64'})"
   ]
  },
  {
   "cell_type": "markdown",
   "metadata": {},
   "source": [
    "## date"
   ]
  },
  {
   "cell_type": "code",
   "execution_count": 11,
   "metadata": {},
   "outputs": [],
   "source": [
    "df = seattle_calendar.reset_index().merge(seattle_listings[['id', 'bedrooms', 'beds', 'property_type', 'zipcode']], \n",
    "                            left_on=['listing_id'], right_on=['id'], how='left')\n",
    "df = df.set_index('date')"
   ]
  },
  {
   "cell_type": "code",
   "execution_count": 12,
   "metadata": {},
   "outputs": [
    {
     "data": {
      "image/png": "[encoded data removed]",
      "text/plain": [
       "<Figure size 432x288 with 1 Axes>"
      ]
     },
     "metadata": {
      "needs_background": "light"
     },
     "output_type": "display_data"
    }
   ],
   "source": [
    "df.groupby(pd.Grouper(freq='M')).price.median().plot(label='seattle');"
   ]
  },
  {
   "cell_type": "markdown",
   "metadata": {},
   "source": [
    "## number of bedrooms"
   ]
  },
  {
   "cell_type": "code",
   "execution_count": 18,
   "metadata": {},
   "outputs": [
    {
     "data": {
      "image/png": "[encoded data removed]",
      "text/plain": [
       "<Figure size 432x288 with 1 Axes>"
      ]
     },
     "metadata": {
      "needs_background": "light"
     },
     "output_type": "display_data"
    }
   ],
   "source": [
    "df.groupby('bedrooms').price.median().sort_index().to_frame().reset_index().plot(x='bedrooms',\n",
    "                                                                                 y='price', kind='scatter');"
   ]
  },
  {
   "cell_type": "markdown",
   "metadata": {},
   "source": [
    "## property type"
   ]
  },
  {
   "cell_type": "code",
   "execution_count": 24,
   "metadata": {},
   "outputs": [
    {
     "data": {
      "text/plain": [
       "16"
      ]
     },
     "execution_count": 24,
     "metadata": {},
     "output_type": "execute_result"
    }
   ],
   "source": [
    "seattle_listings.property_type.nunique()"
   ]
  },
  {
   "cell_type": "code",
   "execution_count": 27,
   "metadata": {},
   "outputs": [],
   "source": [
    "# pd.concat([df.drop('property_type', axis=1),\n",
    "#           pd.get_dummies(df.property_type, prefix='dummy')],axis=1)"
   ]
  },
  {
   "cell_type": "code",
   "execution_count": 30,
   "metadata": {},
   "outputs": [
    {
     "data": {
      "image/png": "[encoded data removed]",
      "text/plain": [
       "<Figure size 432x288 with 1 Axes>"
      ]
     },
     "metadata": {
      "needs_background": "light"
     },
     "output_type": "display_data"
    }
   ],
   "source": [
    "df.groupby('property_type').price.median().plot(kind='bar');"
   ]
  },
  {
   "cell_type": "markdown",
   "metadata": {},
   "source": [
    "## zipcode"
   ]
  },
  {
   "cell_type": "code",
   "execution_count": 13,
   "metadata": {},
   "outputs": [
    {
     "data": {
      "image/png": "[encoded data removed]",
      "text/plain": [
       "<Figure size 432x288 with 1 Axes>"
      ]
     },
     "metadata": {
      "needs_background": "light"
     },
     "output_type": "display_data"
    }
   ],
   "source": [
    "df.groupby('zipcode').price.median().sort_index().to_frame().reset_index().plot(x='zipcode',\n",
    "                                                                                y='price', kind='scatter');"
   ]
  },
  {
   "cell_type": "markdown",
   "metadata": {},
   "source": [
    "# LM"
   ]
  },
  {
   "cell_type": "code",
   "execution_count": 42,
   "metadata": {},
   "outputs": [],
   "source": [
    "import datetime"
   ]
  },
  {
   "cell_type": "code",
   "execution_count": 48,
   "metadata": {},
   "outputs": [
    {
     "name": "stdout",
     "output_type": "stream",
     "text": [
      "The r-squared score for the model using only quantitative variables was 0.4022280203828027 on 279387 values\n"
     ]
    }
   ],
   "source": [
    "df_ = df.reset_index().dropna(subset=['price', 'date', 'bedrooms', 'zipcode'])\n",
    "df_['date'] = pd.to_datetime(df_['date'])\n",
    "df_['date']= df_['date'].map(datetime.datetime.toordinal)\n",
    "\n",
    "X = df_[['date', 'bedrooms', 'zipcode']]\n",
    "y = df_[['price']]\n",
    "\n",
    "#Split into train and test\n",
    "X_train, X_test, y_train, y_test = train_test_split(X, y, test_size = .30, random_state=42) \n",
    "\n",
    "lm_model = LinearRegression(normalize=True) # Instantiate\n",
    "lm_model.fit(X_train, y_train) #Fit\n",
    "        \n",
    "#Predict and score the model\n",
    "y_test_preds = lm_model.predict(X_test) \n",
    "print(f\"The r-squared score for the model using only quantitative variables was {r2_score(y_test, y_test_preds)} on {len(y_test)} values\")"
   ]
  },
  {
   "cell_type": "code",
   "execution_count": 76,
   "metadata": {},
   "outputs": [
    {
     "name": "stdout",
     "output_type": "stream",
     "text": [
      "Train R squared: 0.478, Test R squared: 0.481\n"
     ]
    }
   ],
   "source": [
    "df_ = df.reset_index().copy()\n",
    "df_ = pd.concat([df_.drop('property_type', axis=1),\n",
    "          pd.get_dummies(df_.property_type, prefix='dummy')],axis=1)\n",
    "\n",
    "df_['date'] = pd.to_datetime(df_['date'])\n",
    "df_['date']= df_['date'].map(datetime.datetime.toordinal)\n",
    "\n",
    "df_ = df_.dropna()\n",
    "\n",
    "X = df_.drop(['listing_id', 'available', 'price', 'id', 'zipcode'], axis=1)\n",
    "y = df_[['price']]\n",
    "\n",
    "#Split into train and test\n",
    "X_train, X_test, y_train, y_test = train_test_split(X, y, test_size = .30, random_state=42) \n",
    "\n",
    "lm_model = LinearRegression(normalize=True) # Instantiate\n",
    "lm_model.fit(X_train, y_train) #Fit\n",
    "        \n",
    "#Predict and score the model\n",
    "y_train_preds = lm_model.predict(X_train)\n",
    "y_test_preds = lm_model.predict(X_test)\n",
    "\n",
    "train_score = r2_score(y_train, y_train_preds)\n",
    "test_score = r2_score(y_test, y_test_preds)\n",
    "\n",
    "print(f\"Train R squared: {round(train_score, 3)}, Test R squared: {round(test_score,3)}\")\n"
   ]
  },
  {
   "cell_type": "markdown",
   "metadata": {},
   "source": [
    "# Finally using zipcode"
   ]
  },
  {
   "cell_type": "code",
   "execution_count": 77,
   "metadata": {},
   "outputs": [
    {
     "name": "stdout",
     "output_type": "stream",
     "text": [
      "Train R squared: 0.519, Test R squared: 0.523\n"
     ]
    }
   ],
   "source": [
    "df_ = df.reset_index().copy()\n",
    "df_ = pd.concat([df_.drop('zipcode', axis=1),\n",
    "          pd.get_dummies(df_.zipcode, prefix='dummy')],axis=1)\n",
    "\n",
    "df_['date'] = pd.to_datetime(df_['date'])\n",
    "df_['date']= df_['date'].map(datetime.datetime.toordinal)\n",
    "\n",
    "df_ = df_.dropna()\n",
    "\n",
    "X = df_.drop(['listing_id', 'available', 'price', 'id', 'property_type'], axis=1)\n",
    "y = df_[['price']]\n",
    "\n",
    "#Split into train and test\n",
    "X_train, X_test, y_train, y_test = train_test_split(X, y, test_size = .30, random_state=42) \n",
    "\n",
    "lm_model = LinearRegression(normalize=True) # Instantiate\n",
    "lm_model.fit(X_train, y_train) #Fit\n",
    "        \n",
    "#Predict and score the model\n",
    "y_train_preds = lm_model.predict(X_train)\n",
    "y_test_preds = lm_model.predict(X_test)\n",
    "\n",
    "train_score = r2_score(y_train, y_train_preds)\n",
    "test_score = r2_score(y_test, y_test_preds)\n",
    "\n",
    "print(f\"Train R squared: {round(train_score, 3)}, Test R squared: {round(test_score,3)}\")\n"
   ]
  },
  {
   "cell_type": "markdown",
   "metadata": {},
   "source": [
    "# Combining everything"
   ]
  },
  {
   "cell_type": "code",
   "execution_count": 79,
   "metadata": {},
   "outputs": [
    {
     "name": "stdout",
     "output_type": "stream",
     "text": [
      "Train R squared: 0.531, Test R squared: 0.534\n"
     ]
    }
   ],
   "source": [
    "df_ = df.reset_index().copy()\n",
    "df_ = pd.concat([df_.drop('zipcode', axis=1),\n",
    "          pd.get_dummies(df_.zipcode, prefix='dummy')],axis=1)\n",
    "df_ = pd.concat([df_.drop('property_type', axis=1),\n",
    "          pd.get_dummies(df_.property_type, prefix='dummy')],axis=1)\n",
    "\n",
    "df_['date'] = pd.to_datetime(df_['date'])\n",
    "df_['date']= df_['date'].map(datetime.datetime.toordinal)\n",
    "\n",
    "df_ = df_.dropna()\n",
    "\n",
    "X = df_.drop(['listing_id', 'available', 'price', 'id'], axis=1)\n",
    "y = df_[['price']]\n",
    "\n",
    "#Split into train and test\n",
    "X_train, X_test, y_train, y_test = train_test_split(X, y, test_size = .30, random_state=42) \n",
    "\n",
    "lm_model = LinearRegression(normalize=True) # Instantiate\n",
    "lm_model.fit(X_train, y_train) #Fit\n",
    "        \n",
    "#Predict and score the model\n",
    "y_train_preds = lm_model.predict(X_train)\n",
    "y_test_preds = lm_model.predict(X_test)\n",
    "\n",
    "train_score = r2_score(y_train, y_train_preds)\n",
    "test_score = r2_score(y_test, y_test_preds)\n",
    "\n",
    "print(f\"Train R squared: {round(train_score, 3)}, Test R squared: {round(test_score,3)}\")\n"
   ]
  },
  {
   "cell_type": "markdown",
   "metadata": {},
   "source": [
    "# How does Boston do in comparison?"
   ]
  },
  {
   "cell_type": "code",
   "execution_count": 80,
   "metadata": {},
   "outputs": [],
   "source": [
    "df = boston_calendar.reset_index().merge(boston_listings[['id', 'bedrooms', 'beds', 'property_type', 'zipcode']], \n",
    "                            left_on=['listing_id'], right_on=['id'], how='left')\n",
    "df = df.set_index('date')"
   ]
  },
  {
   "cell_type": "code",
   "execution_count": 82,
   "metadata": {},
   "outputs": [
    {
     "name": "stdout",
     "output_type": "stream",
     "text": [
      "Train R squared: 0.379, Test R squared: 0.368\n"
     ]
    }
   ],
   "source": [
    "df_ = df.reset_index().copy()\n",
    "df_ = pd.concat([df_.drop('zipcode', axis=1),\n",
    "          pd.get_dummies(df_.zipcode, prefix='dummy')],axis=1)\n",
    "df_ = pd.concat([df_.drop('property_type', axis=1),\n",
    "          pd.get_dummies(df_.property_type, prefix='dummy')],axis=1)\n",
    "\n",
    "df_['date'] = pd.to_datetime(df_['date'])\n",
    "df_['date']= df_['date'].map(datetime.datetime.toordinal)\n",
    "\n",
    "df_ = df_.dropna()\n",
    "\n",
    "X = df_.drop(['listing_id', 'available', 'price', 'id', 'date'], axis=1)\n",
    "y = df_[['price']]\n",
    "\n",
    "#Split into train and test\n",
    "X_train, X_test, y_train, y_test = train_test_split(X, y, test_size = .30, random_state=42) \n",
    "\n",
    "lm_model = LinearRegression(normalize=True) # Instantiate\n",
    "lm_model.fit(X_train, y_train) #Fit\n",
    "        \n",
    "#Predict and score the model\n",
    "y_train_preds = lm_model.predict(X_train)\n",
    "y_test_preds = lm_model.predict(X_test)\n",
    "\n",
    "train_score = r2_score(y_train, y_train_preds)\n",
    "test_score = r2_score(y_test, y_test_preds)\n",
    "\n",
    "print(f\"Train R squared: {round(train_score, 3)}, Test R squared: {round(test_score,3)}\")\n"
   ]
  },
  {
   "cell_type": "markdown",
   "metadata": {},
   "source": [
    "# Fake reviews"
   ]
  },
  {
   "cell_type": "code",
   "execution_count": 135,
   "metadata": {},
   "outputs": [
    {
     "data": {
      "text/plain": [
       "206203      67\n",
       "15121499    32\n",
       "5775807     19\n",
       "2734499     19\n",
       "29590276    18\n",
       "            ..\n",
       "31487463     1\n",
       "13532646     1\n",
       "9373300      1\n",
       "28722657     1\n",
       "22282240     1\n",
       "Name: reviewer_id, Length: 75730, dtype: int64"
      ]
     },
     "execution_count": 135,
     "metadata": {},
     "output_type": "execute_result"
    }
   ],
   "source": [
    "seattle_reviews.reviewer_id.value_counts()"
   ]
  },
  {
   "cell_type": "code",
   "execution_count": 151,
   "metadata": {},
   "outputs": [],
   "source": [
    "df = seattle_reviews[seattle_reviews.reviewer_id == 206203].copy()\n",
    "df.date = pd.to_datetime(df.date)\n",
    "df = df.set_index('date')"
   ]
  },
  {
   "cell_type": "code",
   "execution_count": 152,
   "metadata": {},
   "outputs": [
    {
     "data": {
      "text/html": [
       "<div>\n",
       "<style scoped>\n",
       "    .dataframe tbody tr th:only-of-type {\n",
       "        vertical-align: middle;\n",
       "    }\n",
       "\n",
       "    .dataframe tbody tr th {\n",
       "        vertical-align: top;\n",
       "    }\n",
       "\n",
       "    .dataframe thead th {\n",
       "        text-align: right;\n",
       "    }\n",
       "</style>\n",
       "<table border=\"1\" class=\"dataframe\">\n",
       "  <thead>\n",
       "    <tr style=\"text-align: right;\">\n",
       "      <th></th>\n",
       "      <th>listing_id</th>\n",
       "      <th>id</th>\n",
       "      <th>reviewer_id</th>\n",
       "      <th>reviewer_name</th>\n",
       "      <th>comments</th>\n",
       "    </tr>\n",
       "    <tr>\n",
       "      <th>date</th>\n",
       "      <th></th>\n",
       "      <th></th>\n",
       "      <th></th>\n",
       "      <th></th>\n",
       "      <th></th>\n",
       "    </tr>\n",
       "  </thead>\n",
       "  <tbody>\n",
       "    <tr>\n",
       "      <th>2013</th>\n",
       "      <td>9</td>\n",
       "      <td>9</td>\n",
       "      <td>9</td>\n",
       "      <td>9</td>\n",
       "      <td>9</td>\n",
       "    </tr>\n",
       "    <tr>\n",
       "      <th>2014</th>\n",
       "      <td>4</td>\n",
       "      <td>4</td>\n",
       "      <td>4</td>\n",
       "      <td>4</td>\n",
       "      <td>4</td>\n",
       "    </tr>\n",
       "    <tr>\n",
       "      <th>2015</th>\n",
       "      <td>6</td>\n",
       "      <td>6</td>\n",
       "      <td>6</td>\n",
       "      <td>6</td>\n",
       "      <td>6</td>\n",
       "    </tr>\n",
       "  </tbody>\n",
       "</table>\n",
       "</div>"
      ],
      "text/plain": [
       "      listing_id  id  reviewer_id  reviewer_name  comments\n",
       "date                                                      \n",
       "2013           9   9            9              9         9\n",
       "2014           4   4            4              4         4\n",
       "2015           6   6            6              6         6"
      ]
     },
     "execution_count": 152,
     "metadata": {},
     "output_type": "execute_result"
    }
   ],
   "source": [
    "df.groupby(df.index.year).count()"
   ]
  },
  {
   "cell_type": "code",
   "execution_count": 146,
   "metadata": {},
   "outputs": [
    {
     "data": {
      "text/plain": [
       "'Susanna is an outstanding host! Her home is absolutely lovely in the perfect location! Every detail was attended to and I could not have felt more welcome. Highly recommend!!'"
      ]
     },
     "execution_count": 146,
     "metadata": {},
     "output_type": "execute_result"
    }
   ],
   "source": [
    "df.iloc[7,4]"
   ]
  },
  {
   "cell_type": "code",
   "execution_count": 166,
   "metadata": {},
   "outputs": [],
   "source": [
    "df = seattle_listings[['id', 'review_scores_value']]"
   ]
  },
  {
   "cell_type": "code",
   "execution_count": 169,
   "metadata": {},
   "outputs": [],
   "source": [
    "df = seattle_reviews.merge(df, left_on='listing_id', right_on='id', how='left')"
   ]
  },
  {
   "cell_type": "code",
   "execution_count": 175,
   "metadata": {},
   "outputs": [],
   "source": [
    "amanda = df[df.reviewer_id == 206203]"
   ]
  },
  {
   "cell_type": "code",
   "execution_count": 179,
   "metadata": {},
   "outputs": [
    {
     "data": {
      "text/plain": [
       "10.0    0.656716\n",
       "9.0     0.298507\n",
       "8.0     0.044776\n",
       "Name: review_scores_value, dtype: float64"
      ]
     },
     "execution_count": 179,
     "metadata": {},
     "output_type": "execute_result"
    }
   ],
   "source": [
    "amanda.review_scores_value.value_counts() / amanda.shape[0]"
   ]
  },
  {
   "cell_type": "code",
   "execution_count": null,
   "metadata": {},
   "outputs": [],
   "source": []
  },
  {
   "cell_type": "code",
   "execution_count": null,
   "metadata": {},
   "outputs": [],
   "source": []
  },
  {
   "cell_type": "code",
   "execution_count": null,
   "metadata": {},
   "outputs": [],
   "source": []
  },
  {
   "cell_type": "code",
   "execution_count": null,
   "metadata": {},
   "outputs": [],
   "source": []
  },
  {
   "cell_type": "code",
   "execution_count": null,
   "metadata": {},
   "outputs": [],
   "source": []
  },
  {
   "cell_type": "code",
   "execution_count": null,
   "metadata": {},
   "outputs": [],
   "source": []
  },
  {
   "cell_type": "code",
   "execution_count": null,
   "metadata": {},
   "outputs": [],
   "source": []
  },
  {
   "cell_type": "code",
   "execution_count": null,
   "metadata": {},
   "outputs": [],
   "source": []
  },
  {
   "cell_type": "code",
   "execution_count": null,
   "metadata": {},
   "outputs": [],
   "source": []
  }
 ],
 "metadata": {
  "kernelspec": {
   "display_name": "venv",
   "language": "python",
   "name": "venv"
  },
  "language_info": {
   "codemirror_mode": {
    "name": "ipython",
    "version": 3
   },
   "file_extension": ".py",
   "mimetype": "text/x-python",
   "name": "python",
   "nbconvert_exporter": "python",
   "pygments_lexer": "ipython3",
   "version": "3.7.5"
  }
 },
 "nbformat": 4,
 "nbformat_minor": 2
}
