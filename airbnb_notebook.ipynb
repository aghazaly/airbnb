{
 "cells": [
  {
   "cell_type": "code",
   "execution_count": 1,
   "metadata": {},
   "outputs": [],
   "source": [
    "from airbnb_data import Data\n",
    "import datetime\n",
    "import pandas as pd\n",
    "import numpy as np\n",
    "import matplotlib.pyplot as plt\n",
    "\n",
    "from sklearn.linear_model import LinearRegression\n",
    "from sklearn.model_selection import train_test_split\n",
    "from sklearn.metrics import r2_score, mean_squared_error\n",
    "from pandas.plotting import register_matplotlib_converters\n",
    "register_matplotlib_converters()"
   ]
  },
  {
   "cell_type": "markdown",
   "metadata": {},
   "source": [
    "# Questions:\n",
    "\n",
    "**1) Can we predict price? using date and number of beds only<br>**\n",
    "**</br>2) Increase predictive power of our models by combining date with other variables?<br>**\n",
    "**3) How do these findings differ between boston and seattle</br>**"
   ]
  },
  {
   "cell_type": "markdown",
   "metadata": {},
   "source": [
    "# Reading the data "
   ]
  },
  {
   "cell_type": "code",
   "execution_count": 2,
   "metadata": {},
   "outputs": [],
   "source": [
    "data_object = Data('price')"
   ]
  },
  {
   "cell_type": "code",
   "execution_count": 3,
   "metadata": {},
   "outputs": [],
   "source": [
    "data = data_object.load_data()"
   ]
  },
  {
   "cell_type": "markdown",
   "metadata": {},
   "source": [
    "# Quick look at our first table"
   ]
  },
  {
   "cell_type": "code",
   "execution_count": 4,
   "metadata": {},
   "outputs": [
    {
     "data": {
      "text/html": [
       "<div>\n",
       "<style scoped>\n",
       "    .dataframe tbody tr th:only-of-type {\n",
       "        vertical-align: middle;\n",
       "    }\n",
       "\n",
       "    .dataframe tbody tr th {\n",
       "        vertical-align: top;\n",
       "    }\n",
       "\n",
       "    .dataframe thead th {\n",
       "        text-align: right;\n",
       "    }\n",
       "</style>\n",
       "<table border=\"1\" class=\"dataframe\">\n",
       "  <thead>\n",
       "    <tr style=\"text-align: right;\">\n",
       "      <th></th>\n",
       "      <th>listing_id</th>\n",
       "      <th>date</th>\n",
       "      <th>available</th>\n",
       "      <th>price</th>\n",
       "    </tr>\n",
       "  </thead>\n",
       "  <tbody>\n",
       "    <tr>\n",
       "      <th>0</th>\n",
       "      <td>241032</td>\n",
       "      <td>2016-01-04</td>\n",
       "      <td>t</td>\n",
       "      <td>$85.00</td>\n",
       "    </tr>\n",
       "    <tr>\n",
       "      <th>1</th>\n",
       "      <td>241032</td>\n",
       "      <td>2016-01-05</td>\n",
       "      <td>t</td>\n",
       "      <td>$85.00</td>\n",
       "    </tr>\n",
       "    <tr>\n",
       "      <th>2</th>\n",
       "      <td>241032</td>\n",
       "      <td>2016-01-06</td>\n",
       "      <td>f</td>\n",
       "      <td>NaN</td>\n",
       "    </tr>\n",
       "  </tbody>\n",
       "</table>\n",
       "</div>"
      ],
      "text/plain": [
       "   listing_id        date available   price\n",
       "0      241032  2016-01-04         t  $85.00\n",
       "1      241032  2016-01-05         t  $85.00\n",
       "2      241032  2016-01-06         f     NaN"
      ]
     },
     "execution_count": 4,
     "metadata": {},
     "output_type": "execute_result"
    }
   ],
   "source": [
    "seattle_calendar = data['seattle_calendar']\n",
    "\n",
    "seattle_calendar.head(3)"
   ]
  },
  {
   "cell_type": "code",
   "execution_count": 5,
   "metadata": {},
   "outputs": [],
   "source": [
    "\"\"\"\n",
    "First issue we encounter is that the price column which is what we are trying to predict\n",
    "is not a numerical column. First we need to clean this column\n",
    "\"\"\"\n",
    "seattle_calendar['price'] = seattle_calendar['price'].str.replace(',', '') #removing ','\n",
    "seattle_calendar['price'] = seattle_calendar['price'].str.replace('$', '') #removing dollar sign\n",
    "seattle_calendar['price'] = seattle_calendar['price'].astype(float) #converting str to floats\n",
    "\n",
    "\"\"\"\n",
    "Same for boston\n",
    "\"\"\"\n",
    "boston_calendar = data['boston_calendar']\n",
    "boston_calendar['price'] = boston_calendar['price'].str.replace(',', '')\n",
    "boston_calendar['price'] = boston_calendar['price'].str.replace('$', '')\n",
    "boston_calendar['price'] = boston_calendar['price'].astype(float)"
   ]
  },
  {
   "cell_type": "markdown",
   "metadata": {},
   "source": [
    "# How many listings does each city has?"
   ]
  },
  {
   "cell_type": "code",
   "execution_count": 6,
   "metadata": {},
   "outputs": [
    {
     "data": {
      "text/plain": [
       "(3818, 3585)"
      ]
     },
     "execution_count": 6,
     "metadata": {},
     "output_type": "execute_result"
    }
   ],
   "source": [
    "seattle_calendar.listing_id.nunique(), boston_calendar.listing_id.nunique()"
   ]
  },
  {
   "cell_type": "markdown",
   "metadata": {},
   "source": [
    "My working theory is that date has a big predictive power over price, we can quickly plot that to see if that's true"
   ]
  },
  {
   "cell_type": "code",
   "execution_count": 7,
   "metadata": {},
   "outputs": [
    {
     "name": "stdout",
     "output_type": "stream",
     "text": [
      "<class 'pandas.core.frame.DataFrame'>\n",
      "RangeIndex: 1393570 entries, 0 to 1393569\n",
      "Data columns (total 4 columns):\n",
      "listing_id    1393570 non-null int64\n",
      "date          1393570 non-null object\n",
      "available     1393570 non-null object\n",
      "price         934542 non-null float64\n",
      "dtypes: float64(1), int64(1), object(2)\n",
      "memory usage: 42.5+ MB\n"
     ]
    }
   ],
   "source": [
    "\"\"\"\n",
    "A quick look at seattle's columns shows that date needs to be first converted to a datetime type\n",
    "\"\"\"\n",
    "seattle_calendar.info();"
   ]
  },
  {
   "cell_type": "code",
   "execution_count": 8,
   "metadata": {},
   "outputs": [],
   "source": [
    "seattle_calendar['date'] = pd.to_datetime(seattle_calendar['date'])\n",
    "boston_calendar['date'] = pd.to_datetime(boston_calendar['date'])"
   ]
  },
  {
   "cell_type": "code",
   "execution_count": 9,
   "metadata": {},
   "outputs": [],
   "source": [
    "seattle_date = seattle_calendar.set_index('date').groupby(pd.Grouper(freq='W')).price.median()"
   ]
  },
  {
   "cell_type": "code",
   "execution_count": 10,
   "metadata": {},
   "outputs": [],
   "source": [
    "boston_date = boston_calendar.set_index('date').groupby(pd.Grouper(freq='W')).price.median()"
   ]
  },
  {
   "cell_type": "markdown",
   "metadata": {},
   "source": [
    "# First thing we do is to plot potential features against the target and see if your theory holds up"
   ]
  },
  {
   "cell_type": "code",
   "execution_count": 11,
   "metadata": {
    "scrolled": true
   },
   "outputs": [
    {
     "data": {
      "image/png": "[encoded data removed]",
      "text/plain": [
       "<Figure size 1080x360 with 2 Axes>"
      ]
     },
     "metadata": {
      "needs_background": "light"
     },
     "output_type": "display_data"
    }
   ],
   "source": [
    "fig, ax = plt.subplots(nrows=1, ncols=2, figsize=(15,5))\n",
    "ax[0].plot(seattle_date.index, seattle_date.values, label='Median price per week')\n",
    "ax[0].set_title('Seattle')\n",
    "ax[0].legend()\n",
    "ax[1].plot(boston_date.index, boston_date.values, color='r', label='Median price per week')\n",
    "ax[1].set_title('Boston');\n",
    "ax[1].legend();"
   ]
  },
  {
   "cell_type": "markdown",
   "metadata": {},
   "source": [
    "# Number of bedrooms"
   ]
  },
  {
   "cell_type": "code",
   "execution_count": 12,
   "metadata": {},
   "outputs": [],
   "source": [
    "\"\"\"\n",
    "Number of bedrooms and other property features are located in the listings table, we need to first merge\n",
    "the listings table with calendar table\n",
    "\"\"\"\n",
    "seattle_listings = data['seattle_listings']\n",
    "boston_listings = data['boston_listings']"
   ]
  },
  {
   "cell_type": "code",
   "execution_count": 13,
   "metadata": {},
   "outputs": [],
   "source": [
    "seattle_df = seattle_calendar.reset_index().merge(seattle_listings[['id', 'bedrooms', 'beds', 'property_type', 'zipcode']], \n",
    "                            left_on=['listing_id'], right_on=['id'], how='left')\n",
    "seattle_df = seattle_df.set_index('date')\n",
    "\n",
    "boston_df = boston_calendar.reset_index().merge(boston_listings[['id', 'bedrooms', 'beds', 'property_type', 'zipcode']], \n",
    "                            left_on=['listing_id'], right_on=['id'], how='left')\n",
    "boston_df = boston_df.set_index('date')"
   ]
  },
  {
   "cell_type": "code",
   "execution_count": 14,
   "metadata": {},
   "outputs": [
    {
     "data": {
      "image/png": "[encoded data removed]",
      "text/plain": [
       "<Figure size 1080x360 with 2 Axes>"
      ]
     },
     "metadata": {
      "needs_background": "light"
     },
     "output_type": "display_data"
    }
   ],
   "source": [
    "fig, ax = plt.subplots(nrows=1, ncols=2, figsize=(15,5))\n",
    "ax[0].scatter(seattle_df.groupby('bedrooms').price.median().index, seattle_df.groupby('bedrooms').price.median(), \n",
    "              label='Median price per number of bedrooms')\n",
    "ax[0].set_title('Seattle')\n",
    "ax[0].legend()\n",
    "ax[1].scatter(boston_df.groupby('bedrooms').price.median().index, boston_df.groupby('bedrooms').price.median(), \n",
    "              label='Median price per number of bedrooms', color='r')\n",
    "ax[1].set_title('boston')\n",
    "ax[1].legend();"
   ]
  },
  {
   "cell_type": "markdown",
   "metadata": {},
   "source": [
    "# One more check before we start running our OLS model"
   ]
  },
  {
   "cell_type": "code",
   "execution_count": 15,
   "metadata": {},
   "outputs": [
    {
     "data": {
      "text/plain": [
       "price            0.329390\n",
       "zipcode          0.001833\n",
       "bedrooms         0.001572\n",
       "property_type    0.000262\n",
       "beds             0.000262\n",
       "id               0.000000\n",
       "available        0.000000\n",
       "listing_id       0.000000\n",
       "index            0.000000\n",
       "dtype: float64"
      ]
     },
     "execution_count": 15,
     "metadata": {},
     "output_type": "execute_result"
    }
   ],
   "source": [
    "\"\"\"\n",
    "The biggest column by number of nan's is our target; price. \n",
    "\n",
    "The percentage of nan values in the other columns are all less than 1% so it is unlikely to have a material impact\n",
    "on our analysis.\n",
    "\n",
    "In this case I choose to dropna rather than doing data imputation.\n",
    "\"\"\"\n",
    "\n",
    "seattle_df.isna().mean().sort_values(ascending=False)"
   ]
  },
  {
   "cell_type": "markdown",
   "metadata": {},
   "source": [
    "# Experiments"
   ]
  },
  {
   "cell_type": "code",
   "execution_count": 16,
   "metadata": {},
   "outputs": [],
   "source": [
    "\"\"\"\n",
    "This is the varianle we will uset to record out results\n",
    "\"\"\"\n",
    "\n",
    "experiments = {}"
   ]
  },
  {
   "cell_type": "markdown",
   "metadata": {},
   "source": [
    "# Liner Model "
   ]
  },
  {
   "cell_type": "code",
   "execution_count": 17,
   "metadata": {},
   "outputs": [
    {
     "name": "stdout",
     "output_type": "stream",
     "text": [
      "Train R squared: 0.399, Test R squared: 0.403\n"
     ]
    }
   ],
   "source": [
    "df_ = seattle_df.reset_index().dropna(subset=['price', 'date', 'bedrooms']).copy()\n",
    "df_['date']= df_['date'].map(datetime.datetime.toordinal)\n",
    "\n",
    "X = df_[['date', 'bedrooms']]\n",
    "y = df_[['price']]\n",
    "\n",
    "#Split into train and test\n",
    "X_train, X_test, y_train, y_test = train_test_split(X, y, test_size = .30, random_state=42) \n",
    "\n",
    "lm_model = LinearRegression(normalize=True) # Instantiate\n",
    "lm_model.fit(X_train, y_train) #Fit\n",
    "        \n",
    "#Predict and score the model\n",
    "y_train_preds = lm_model.predict(X_train)\n",
    "y_test_preds = lm_model.predict(X_test)\n",
    "train_score = r2_score(y_train, y_train_preds)\n",
    "test_score = r2_score(y_test, y_test_preds)\n",
    "\n",
    "experiments['experiment_1'] = (round(train_score, 3), round(test_score,3))\n",
    "\n",
    "print(f\"Train R squared: {round(train_score, 3)}, Test R squared: {round(test_score,3)}\")"
   ]
  },
  {
   "cell_type": "markdown",
   "metadata": {},
   "source": [
    "# Property Type"
   ]
  },
  {
   "cell_type": "markdown",
   "metadata": {},
   "source": [
    "Property type feature is a categorical feature, we need to create dummy variables before we can incorporate it into our model"
   ]
  },
  {
   "cell_type": "code",
   "execution_count": 18,
   "metadata": {},
   "outputs": [
    {
     "name": "stdout",
     "output_type": "stream",
     "text": [
      "Train R squared: 0.442, Test R squared: 0.445\n"
     ]
    }
   ],
   "source": [
    "df_ = seattle_df.reset_index().copy() #creating a copy of our default dataframe\n",
    "df_ = pd.concat([df_.drop('property_type', axis=1),#dropping original property_type column   \n",
    "                 pd.get_dummies(df_.property_type, prefix='dummy')],axis=1) #creating dummy variables using pandas\n",
    "\n",
    "df_['date'] = pd.to_datetime(df_['date']) #changing date columns type to datetime\n",
    "df_['date']= df_['date'].map(datetime.datetime.toordinal) #changing from datetime to ordinal\n",
    "\n",
    "df_ = df_.dropna()\n",
    "columns = [x for x in df_.columns if 'dummy' in x or 'bedrooms' in x]\n",
    "X = df_[columns]\n",
    "y = df_[['price']]\n",
    "\n",
    "#Split into train and test\n",
    "X_train, X_test, y_train, y_test = train_test_split(X, y, test_size = .30, random_state=42) \n",
    "\n",
    "lm_model = LinearRegression(normalize=True) # Instantiate\n",
    "lm_model.fit(X_train, y_train) #Fit\n",
    "        \n",
    "#Predict and score the model\n",
    "y_train_preds = lm_model.predict(X_train)\n",
    "y_test_preds = lm_model.predict(X_test)\n",
    "\n",
    "train_score = r2_score(y_train, y_train_preds)\n",
    "test_score = r2_score(y_test, y_test_preds)\n",
    "\n",
    "experiments['experiment_2'] = (round(train_score, 3), round(test_score,3))\n",
    "\n",
    "print(f\"Train R squared: {round(train_score, 3)}, Test R squared: {round(test_score,3)}\")"
   ]
  },
  {
   "cell_type": "markdown",
   "metadata": {},
   "source": [
    "# Adding Zipcode"
   ]
  },
  {
   "cell_type": "code",
   "execution_count": 19,
   "metadata": {},
   "outputs": [
    {
     "name": "stdout",
     "output_type": "stream",
     "text": [
      "Train R squared: 0.49, Test R squared: 0.493\n"
     ]
    }
   ],
   "source": [
    "seattle_df.zipcode = seattle_df.zipcode.replace(\"99\\n98122\", \"98122\") #fixing what seems to be a typo\n",
    "df_ = seattle_df.reset_index().copy()\n",
    "df_ = pd.concat([df_.drop('zipcode', axis=1),\n",
    "          pd.get_dummies(df_.zipcode, prefix='dummy')],axis=1)\n",
    "\n",
    "df_['date'] = pd.to_datetime(df_['date'])\n",
    "df_['date']= df_['date'].map(datetime.datetime.toordinal)\n",
    "\n",
    "df_ = df_.dropna()\n",
    "\n",
    "columns = [x for x in df_.columns if 'dummy' in x or 'bedrooms' in x]\n",
    "X = df_[columns]\n",
    "y = df_[['price']]\n",
    "\n",
    "#Split into train and test\n",
    "X_train, X_test, y_train, y_test = train_test_split(X, y, test_size = .30, random_state=42) \n",
    "\n",
    "lm_model = LinearRegression(normalize=True) # Instantiate\n",
    "lm_model.fit(X_train, y_train) #Fit\n",
    "        \n",
    "#Predict and score the model\n",
    "y_train_preds = lm_model.predict(X_train)\n",
    "y_test_preds = lm_model.predict(X_test)\n",
    "\n",
    "train_score = r2_score(y_train, y_train_preds)\n",
    "test_score = r2_score(y_test, y_test_preds)\n",
    "\n",
    "experiments['experiment_3'] = (round(train_score, 3), round(test_score,3))\n",
    "\n",
    "print(f\"Train R squared: {round(train_score, 3)}, Test R squared: {round(test_score,3)}\")"
   ]
  },
  {
   "cell_type": "markdown",
   "metadata": {},
   "source": [
    "# Combining Everything"
   ]
  },
  {
   "cell_type": "code",
   "execution_count": 20,
   "metadata": {},
   "outputs": [
    {
     "name": "stdout",
     "output_type": "stream",
     "text": [
      "Train R squared: 0.533, Test R squared: 0.534\n"
     ]
    }
   ],
   "source": [
    "df_ = seattle_df.reset_index().copy()\n",
    "df_ = pd.concat([df_.drop('zipcode', axis=1),\n",
    "          pd.get_dummies(df_.zipcode, prefix='dummy')],axis=1)\n",
    "df_ = pd.concat([df_.drop('property_type', axis=1),\n",
    "                 pd.get_dummies(df_.property_type, prefix='dummy')],axis=1)\n",
    "\n",
    "df_['date'] = pd.to_datetime(df_['date'])\n",
    "df_['date']= df_['date'].map(datetime.datetime.toordinal)\n",
    "\n",
    "df_ = df_.dropna()\n",
    "\n",
    "X = df_.drop(['listing_id', 'available', 'price', 'id'], axis=1)\n",
    "y = df_[['price']]\n",
    "\n",
    "#Split into train and test\n",
    "X_train, X_test, y_train, y_test = train_test_split(X, y, test_size = .30, random_state=42) \n",
    "\n",
    "lm_model = LinearRegression(normalize=True) # Instantiate\n",
    "lm_model.fit(X_train, y_train) #Fit\n",
    "        \n",
    "#Predict and score the model\n",
    "y_train_preds = lm_model.predict(X_train)\n",
    "y_test_preds = lm_model.predict(X_test)\n",
    "\n",
    "train_score = r2_score(y_train, y_train_preds)\n",
    "test_score = r2_score(y_test, y_test_preds)\n",
    "\n",
    "experiments['experiment_4'] = (round(train_score, 3), round(test_score,3))\n",
    "\n",
    "print(f\"Train R squared: {round(train_score, 3)}, Test R squared: {round(test_score,3)}\")"
   ]
  },
  {
   "cell_type": "code",
   "execution_count": 21,
   "metadata": {},
   "outputs": [],
   "source": [
    "results = pd.DataFrame.from_dict(experiments).transpose()\n",
    "results.columns = ['Train', 'Test']"
   ]
  },
  {
   "cell_type": "code",
   "execution_count": 22,
   "metadata": {},
   "outputs": [
    {
     "data": {
      "image/png": "[encoded data removed]",
      "text/plain": [
       "<Figure size 1080x360 with 1 Axes>"
      ]
     },
     "metadata": {
      "needs_background": "light"
     },
     "output_type": "display_data"
    }
   ],
   "source": [
    "results.plot(kind='bar', figsize=(15,5));\n",
    "plt.title('R squared');"
   ]
  },
  {
   "cell_type": "markdown",
   "metadata": {},
   "source": [
    "# Finally how does this model perform with Boston data"
   ]
  },
  {
   "cell_type": "code",
   "execution_count": 23,
   "metadata": {},
   "outputs": [
    {
     "name": "stdout",
     "output_type": "stream",
     "text": [
      "Train R squared: 0.379, Test R squared: 0.368\n"
     ]
    }
   ],
   "source": [
    "df_ = boston_df.reset_index().copy()\n",
    "df_ = pd.concat([df_.drop('zipcode', axis=1),\n",
    "          pd.get_dummies(df_.zipcode, prefix='dummy')],axis=1)\n",
    "df_ = pd.concat([df_.drop('property_type', axis=1),\n",
    "                 pd.get_dummies(df_.property_type, prefix='dummy')],axis=1)\n",
    "\n",
    "df_['date'] = pd.to_datetime(df_['date'])\n",
    "df_['date']= df_['date'].map(datetime.datetime.toordinal)\n",
    "\n",
    "df_ = df_.dropna()\n",
    "\n",
    "X = df_.drop(['listing_id', 'available', 'price', 'id'], axis=1)\n",
    "y = df_[['price']]\n",
    "\n",
    "#Split into train and test\n",
    "X_train, X_test, y_train, y_test = train_test_split(X, y, test_size = .30, random_state=42) \n",
    "\n",
    "lm_model = LinearRegression(normalize=True) # Instantiate\n",
    "lm_model.fit(X_train, y_train) #Fit\n",
    "        \n",
    "#Predict and score the model\n",
    "y_train_preds = lm_model.predict(X_train)\n",
    "y_test_preds = lm_model.predict(X_test)\n",
    "\n",
    "train_score = r2_score(y_train, y_train_preds)\n",
    "test_score = r2_score(y_test, y_test_preds)\n",
    "\n",
    "print(f\"Train R squared: {round(train_score, 3)}, Test R squared: {round(test_score,3)}\")"
   ]
  },
  {
   "cell_type": "code",
   "execution_count": null,
   "metadata": {},
   "outputs": [],
   "source": []
  },
  {
   "cell_type": "code",
   "execution_count": null,
   "metadata": {},
   "outputs": [],
   "source": []
  },
  {
   "cell_type": "code",
   "execution_count": null,
   "metadata": {},
   "outputs": [],
   "source": []
  },
  {
   "cell_type": "code",
   "execution_count": null,
   "metadata": {},
   "outputs": [],
   "source": []
  }
 ],
 "metadata": {
  "kernelspec": {
   "display_name": "venv",
   "language": "python",
   "name": "venv"
  },
  "language_info": {
   "codemirror_mode": {
    "name": "ipython",
    "version": 3
   },
   "file_extension": ".py",
   "mimetype": "text/x-python",
   "name": "python",
   "nbconvert_exporter": "python",
   "pygments_lexer": "ipython3",
   "version": "3.7.5"
  }
 },
 "nbformat": 4,
 "nbformat_minor": 2
}
